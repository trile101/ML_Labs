{
 "cells": [
  {
   "cell_type": "markdown",
   "metadata": {
    "colab_type": "text",
    "id": "v6pSj40J774r"
   },
   "source": [
    "# Lab02: Gradient Descent.\n",
    "\n",
    "- Student ID: 19127593\n",
    "- Student name: Lê Tiến Trí"
   ]
  },
  {
   "cell_type": "markdown",
   "metadata": {
    "colab_type": "text",
    "id": "A_TxwHT3774s"
   },
   "source": [
    "**How to do your homework**\n",
    "\n",
    "\n",
    "You will work directly on this notebook; the word `TODO` indicate the parts you need to do.\n",
    "\n",
    "You can discuss ideas with classmates as well as finding information from the internet, book, etc...; but *this homework must be your*.\n",
    "\n",
    "**How to submit your homework**\n",
    "\n",
    "Before submitting, rerun the notebook (`Kernel` ->` Restart & Run All`).\n",
    "\n",
    "Then create a folder named `ID` (for example, if your ID is 1234567, then name the folder `1234567`) Copy file notebook to this folder, compress and submit it on moodle.\n",
    "\n",
    "**Contents:**\n",
    "- Gradient descent."
   ]
  },
  {
   "cell_type": "markdown",
   "metadata": {
    "colab_type": "text",
    "id": "Idy5YdzJ774t"
   },
   "source": [
    "## 1. Loss landscape\n",
    "![Loss lanscape](img.png) <center>**Figure 1. Loss landscape visualized as a 2D plot. Source: codecamp.vn**<center>\n",
    "\n",
    "&nbsp;&nbsp;&nbsp;&nbsp; The gradient descent method is an iterative optimization algorithm that operates over a loss landscape (also called an optimization surface).As we can see, our loss landscape has many peaks and valleys based on which values our parameters take on. Each peak is a local maximum that represents very high regions of loss – the local maximum with the largest loss across the entire loss landscape is the global maximum. Similarly, we also have local minimum which represents many small regions of loss. The local minimum with the smallest loss across the loss landscape is our global minimum. In an ideal world, we would like to find this global minimum, ensuring our parameters take on the most optimal possible values.\n",
    " \n",
    "&nbsp;&nbsp;&nbsp;&nbsp;Each position along the surface of the corresponds to a particular loss value given a set of\n",
    "parameters $\\mathbf{W}$ (weight matrix) and $\\mathbf{b}$ (bias vector). Our goal is to try different values of $\\mathbf{W}$ and $\\mathbf{b}$, evaluate their loss, and then take a step towards more optimal values that (ideally) have lower loss."
   ]
  },
  {
   "cell_type": "markdown",
   "metadata": {
    "colab_type": "text",
    "id": "1PqdcOh4774u"
   },
   "source": [
    "## 2. The “Gradient” in Gradient Descent"
   ]
  },
  {
   "cell_type": "markdown",
   "metadata": {
    "colab_type": "text",
    "id": "oo700mD-774v"
   },
   "source": [
    "&nbsp;&nbsp;&nbsp;&nbsp;We can use $\\mathbf{W}$ and $\\mathbf{b}$ and to compute a loss function $L$ or we are able to find our relative position on the loss landscape, but **which direction** we should take a step to move closer to the minimum.\n",
    "\n",
    "- All We need to do is follow the slope of the gradient $\\nabla_{\\mathbf{W}}$. We can compute the gradient $\\nabla_{\\mathbf{W}}$ across all dimensions using the following equation:\n",
    "$$\\dfrac{df\\left(x\\right)}{dx}=\\lim_{h\\to0} \\dfrac{f\\left(x+h\\right)-f\\left(x\\right)}{h}$$\n",
    "- But, this equation has 2 problems:\n",
    "    + 1. It’s an *approximation* to the gradient.\n",
    "    + 2. It’s painfully slow.\n",
    "    \n",
    "&nbsp;&nbsp;&nbsp;&nbsp; In practice, we use the **analytic gradient** instead."
   ]
  },
  {
   "cell_type": "markdown",
   "metadata": {
    "colab_type": "text",
    "id": "bF9JcwLP774w"
   },
   "source": [
    "## 3. Implementation"
   ]
  },
  {
   "cell_type": "markdown",
   "metadata": {
    "colab_type": "text",
    "id": "1xS5CesP774x"
   },
   "source": [
    "### 3.1. Import library"
   ]
  },
  {
   "cell_type": "code",
   "execution_count": 10,
   "metadata": {
    "colab": {},
    "colab_type": "code",
    "id": "-IGK04dQ774y"
   },
   "outputs": [],
   "source": [
    "from sklearn.model_selection import train_test_split\n",
    "from sklearn.metrics import classification_report\n",
    "from sklearn.datasets import make_blobs\n",
    "import matplotlib.pyplot as plt\n",
    "import numpy as np"
   ]
  },
  {
   "cell_type": "markdown",
   "metadata": {
    "colab_type": "text",
    "id": "fOifA6w57742"
   },
   "source": [
    "### 3.2. Create data"
   ]
  },
  {
   "cell_type": "code",
   "execution_count": 11,
   "metadata": {
    "colab": {},
    "colab_type": "code",
    "id": "KMk2w2H37743"
   },
   "outputs": [],
   "source": [
    "# generate a 2-class classification problem with 1,000 data points, each data point is a 2D feature vector\n",
    "(X, y) = make_blobs(n_samples=1000, n_features=2, centers=2, cluster_std=1.5, random_state=1)\n",
    "y = y.reshape((y.shape[0], 1))\n",
    "\n",
    "'''insert a column of 1’s as the last entry in the feature matrix  \n",
    "-- allows us to treat the bias as a trainable parameter'''\n",
    "X = np.c_[X, np.ones((X.shape[0]))]\n",
    "\n",
    "# Split data, use 50% of the data for training and the remaining 50% for testing\n",
    "(trainX, testX, trainY, testY) = train_test_split(X, y, test_size=0.5, random_state=42)"
   ]
  },
  {
   "cell_type": "code",
   "execution_count": 23,
   "metadata": {},
   "outputs": [
    {
     "data": {
      "text/plain": [
       "array([[ -2.54825183,   0.94912796,   1.        ],\n",
       "       [-12.62182064,  -1.96446452,   1.        ],\n",
       "       [ -6.83458986,  -1.53300622,   1.        ],\n",
       "       ...,\n",
       "       [  0.28076453,   3.74799337,   1.        ],\n",
       "       [  0.08236863,   6.01143818,   1.        ],\n",
       "       [ -1.9394284 ,   4.32125315,   1.        ]])"
      ]
     },
     "execution_count": 23,
     "metadata": {},
     "output_type": "execute_result"
    }
   ],
   "source": [
    "trainX"
   ]
  },
  {
   "cell_type": "markdown",
   "metadata": {
    "colab_type": "text",
    "id": "hya48LST7746"
   },
   "source": [
    "### 3.3. Training\n",
    "#### Sigmoid function and derivative of the sigmoid function"
   ]
  },
  {
   "cell_type": "code",
   "execution_count": 12,
   "metadata": {
    "colab": {},
    "colab_type": "code",
    "id": "68jwpcF57747"
   },
   "outputs": [],
   "source": [
    "def sigmoid_activation(x):\n",
    "    \n",
    "    \"\"\"compute the sigmoid activation value for a given input\"\"\"\n",
    "    #TODO\n",
    "    return 1/(1 + np.exp(-x))\n",
    "\n",
    "def sigmoid_deriv(x):\n",
    "    '''compute the derivative of the sigmoid function ASSUMING\n",
    "    that the input ‘x‘ has already been passed through the sigmoid\n",
    "    activation function'''\n",
    "    #TODO\n",
    "    d = sigmoid_activation(x)\n",
    "    return d * (1 - d)\n"
   ]
  },
  {
   "cell_type": "markdown",
   "metadata": {
    "colab_type": "text",
    "id": "5ahjNpKL774-"
   },
   "source": [
    "#### Compute output"
   ]
  },
  {
   "cell_type": "code",
   "execution_count": 13,
   "metadata": {
    "colab": {},
    "colab_type": "code",
    "id": "GWjPr92f775A"
   },
   "outputs": [],
   "source": [
    "def compute_h(W, X):\n",
    "    \"\"\"\n",
    "    Compute output: Take the dot product between our features ‘X‘ and the weight\n",
    "    matrix ‘W‘, then pass this value through our sigmoid activation function \n",
    "    \"\"\"\n",
    "    #TODO\n",
    "    return sigmoid_activation(np.dot(X,W))\n",
    "def predict(W, X):\n",
    "    '''Take the dot product between our features and weight matrix, \n",
    "       then pass this value through our sigmoid activation'''\n",
    "    #TODO\n",
    "    #preds=?\n",
    "    preds=compute_h(W, X)\n",
    "    \n",
    "    # apply a step function to threshold the outputs to binary\n",
    "    # class labels\n",
    "    preds[preds <= 0.5] = 0\n",
    "    preds[preds > 0] = 1\n",
    "\n",
    "    return preds"
   ]
  },
  {
   "cell_type": "markdown",
   "metadata": {
    "colab_type": "text",
    "id": "BhLUeI3k775E"
   },
   "source": [
    "#### Initialize our weight matrix and list of losses"
   ]
  },
  {
   "cell_type": "code",
   "execution_count": 14,
   "metadata": {
    "colab": {},
    "colab_type": "code",
    "id": "xeXMNCJA775F"
   },
   "outputs": [],
   "source": [
    "W = np.random.randn(X.shape[1], 1)\n",
    "losses = []"
   ]
  },
  {
   "cell_type": "markdown",
   "metadata": {
    "colab_type": "text",
    "id": "m-jgcin5775J"
   },
   "source": [
    "#### Compute gradient"
   ]
  },
  {
   "cell_type": "code",
   "execution_count": 24,
   "metadata": {
    "colab": {},
    "colab_type": "code",
    "id": "XCgmX_YX775K"
   },
   "outputs": [],
   "source": [
    "def compute_gradient(error, h, trainX):\n",
    "    #TODO \n",
    "    \"\"\"\n",
    "    The gradient descent update is the dot product between our\n",
    "    features and the error of the sigmoid derivative of our predictions\n",
    "    \"\"\"\n",
    "    gradient = np.dot(trainX.T,error*sigmoid_deriv(h))\n",
    "    print(\"H\", error*sigmoid_deriv(h))\n",
    "   \n",
    "    return gradient"
   ]
  },
  {
   "cell_type": "markdown",
   "metadata": {
    "colab_type": "text",
    "id": "Ly9DmOdH775N"
   },
   "source": [
    "#### Training function "
   ]
  },
  {
   "cell_type": "code",
   "execution_count": 25,
   "metadata": {
    "colab": {},
    "colab_type": "code",
    "id": "qp3xRAC8775O"
   },
   "outputs": [],
   "source": [
    "def train(W,trainX, trainY, learning_rate, num_epochs):\n",
    "    for epoch in np.arange(0, num_epochs):\n",
    "        h = compute_h(W,trainX)\n",
    "        # now that we have our predictions, we need to determine the\n",
    "        # ‘error‘, which is the difference between our predictions and\n",
    "        # the true values\n",
    "        error = h - trainY\n",
    "        loss = np.sum(error ** 2)\n",
    "        losses.append(loss)\n",
    "        gradient=compute_gradient(error, h, trainX)\n",
    "        W += -learning_rate * gradient\n",
    "        \n",
    "        if epoch == 0 or (epoch + 1) % 5 == 0:\n",
    "            print(\"Epoch={}, loss={:.7f}\".format(int(epoch + 1),loss))\n",
    "        \n",
    "    return W"
   ]
  },
  {
   "cell_type": "markdown",
   "metadata": {
    "colab_type": "text",
    "id": "_Qhq0x4w775S"
   },
   "source": [
    "#### Train our model\n"
   ]
  },
  {
   "cell_type": "code",
   "execution_count": 27,
   "metadata": {
    "colab": {},
    "colab_type": "code",
    "id": "MqzBTvVb775S"
   },
   "outputs": [
    {
     "name": "stdout",
     "output_type": "stream",
     "text": [
      "H [[ 2.73900084e-02]\n",
      " [-3.43141026e-14]\n",
      " [-2.85291598e-09]\n",
      " [ 1.00086107e-19]\n",
      " [ 2.10935813e-13]\n",
      " [ 1.54955443e-08]\n",
      " [-4.36566190e-17]\n",
      " [ 0.00000000e+00]\n",
      " [ 1.09270973e-17]\n",
      " [-2.14135716e-13]\n",
      " [ 2.04372469e-14]\n",
      " [ 3.99528860e-15]\n",
      " [ 0.00000000e+00]\n",
      " [-4.78563858e-13]\n",
      " [-1.53671299e-14]\n",
      " [ 0.00000000e+00]\n",
      " [-4.36566190e-17]\n",
      " [-1.30969857e-16]\n",
      " [-1.64194814e-10]\n",
      " [ 0.00000000e+00]\n",
      " [-1.36453128e-12]\n",
      " [ 0.00000000e+00]\n",
      " [ 0.00000000e+00]\n",
      " [ 1.51647703e-11]\n",
      " [ 0.00000000e+00]\n",
      " [-6.54849286e-16]\n",
      " [ 0.00000000e+00]\n",
      " [-1.22238533e-15]\n",
      " [ 1.98389391e-18]\n",
      " [ 1.23631727e-12]\n",
      " [ 1.24961657e-09]\n",
      " [ 5.43988862e-09]\n",
      " [ 6.30722618e-14]\n",
      " [-5.99405379e-14]\n",
      " [ 2.91559532e-13]\n",
      " [-3.35239178e-13]\n",
      " [ 1.68391296e-09]\n",
      " [ 1.64165218e-15]\n",
      " [-1.01283356e-14]\n",
      " [ 4.37794419e-10]\n",
      " [ 0.00000000e+00]\n",
      " [-2.13917433e-15]\n",
      " [ 3.03057971e-19]\n",
      " [ 0.00000000e+00]\n",
      " [ 1.21615211e-14]\n",
      " [ 2.81712078e-10]\n",
      " [-1.30969857e-16]\n",
      " [ 0.00000000e+00]\n",
      " [ 2.36482598e-10]\n",
      " [ 1.07744056e-10]\n",
      " [ 7.75779684e-14]\n",
      " [-3.23058981e-15]\n",
      " [-3.18693319e-15]\n",
      " [ 2.45043784e-12]\n",
      " [ 6.72675035e-14]\n",
      " [ 3.00942188e-11]\n",
      " [-1.30969857e-16]\n",
      " [ 3.64373330e-10]\n",
      " [-2.18283095e-16]\n",
      " [-3.52221602e-13]\n",
      " [ 4.66116177e-10]\n",
      " [ 0.00000000e+00]\n",
      " [ 1.79251914e-10]\n",
      " [-3.22067146e-10]\n",
      " [-4.45297514e-15]\n",
      " [-4.13428182e-14]\n",
      " [ 1.85577689e-10]\n",
      " [ 0.00000000e+00]\n",
      " [ 2.79403777e-09]\n",
      " [ 0.00000000e+00]\n",
      " [ 1.58700293e-14]\n",
      " [ 0.00000000e+00]\n",
      " [ 3.71385551e-04]\n",
      " [ 9.12896036e-16]\n",
      " [-5.03360818e-14]\n",
      " [ 0.00000000e+00]\n",
      " [-3.87146898e-13]\n",
      " [ 0.00000000e+00]\n",
      " [ 3.90819929e-09]\n",
      " [ 0.00000000e+00]\n",
      " [-2.61939714e-16]\n",
      " [ 0.00000000e+00]\n",
      " [ 7.47196170e-17]\n",
      " [ 2.35456406e-12]\n",
      " [ 3.30208800e-11]\n",
      " [-7.97627822e-11]\n",
      " [-1.74626476e-16]\n",
      " [ 1.04877969e-14]\n",
      " [ 5.89887906e-13]\n",
      " [ 5.82527124e-14]\n",
      " [-8.73132381e-17]\n",
      " [ 3.44663745e-07]\n",
      " [-1.39701181e-15]\n",
      " [-3.15157133e-13]\n",
      " [-2.44477067e-14]\n",
      " [ 3.14797035e-12]\n",
      " [-8.73132381e-16]\n",
      " [ 0.00000000e+00]\n",
      " [-4.95066060e-14]\n",
      " [ 1.53435172e-10]\n",
      " [ 4.51894797e-12]\n",
      " [ 0.00000000e+00]\n",
      " [ 7.73589061e-13]\n",
      " [ 0.00000000e+00]\n",
      " [ 0.00000000e+00]\n",
      " [ 1.08646121e-10]\n",
      " [ 3.30192826e-10]\n",
      " [ 1.51213393e-12]\n",
      " [ 1.87835639e-14]\n",
      " [ 0.00000000e+00]\n",
      " [ 8.05104205e-07]\n",
      " [-3.49546761e-11]\n",
      " [-3.90692252e-11]\n",
      " [ 0.00000000e+00]\n",
      " [ 0.00000000e+00]\n",
      " [ 7.16360205e-08]\n",
      " [ 0.00000000e+00]\n",
      " [-1.26604195e-15]\n",
      " [ 4.70200024e-11]\n",
      " [-1.30969857e-16]\n",
      " [ 4.21284670e-12]\n",
      " [ 3.13095507e-08]\n",
      " [-1.03233362e-09]\n",
      " [ 1.30025873e-04]\n",
      " [-1.09236815e-09]\n",
      " [ 2.36711564e-14]\n",
      " [-4.36566190e-17]\n",
      " [-6.98505905e-16]\n",
      " [-1.51741676e-12]\n",
      " [ 1.69360235e-14]\n",
      " [ 9.52545905e-13]\n",
      " [-1.57163829e-15]\n",
      " [ 5.33587747e-13]\n",
      " [ 6.07992735e-13]\n",
      " [ 0.00000000e+00]\n",
      " [-4.36566190e-17]\n",
      " [ 2.42900834e-10]\n",
      " [ 0.00000000e+00]\n",
      " [-7.11602890e-15]\n",
      " [-1.70260814e-15]\n",
      " [ 4.65147655e-10]\n",
      " [ 2.98820560e-12]\n",
      " [ 1.07186575e-11]\n",
      " [ 1.03202045e-07]\n",
      " [ 2.14359044e-10]\n",
      " [-1.30969857e-16]\n",
      " [ 0.00000000e+00]\n",
      " [ 0.00000000e+00]\n",
      " [ 6.08192354e-07]\n",
      " [-7.85819143e-16]\n",
      " [ 1.03592380e-10]\n",
      " [ 3.08341286e-10]\n",
      " [ 1.28942291e-11]\n",
      " [ 1.25313231e-14]\n",
      " [ 1.66782796e-08]\n",
      " [-3.40521629e-15]\n",
      " [ 0.00000000e+00]\n",
      " [ 0.00000000e+00]\n",
      " [ 1.61587431e-17]\n",
      " [ 7.67582304e-02]\n",
      " [ 2.13809390e-06]\n",
      " [ 4.17338853e-11]\n",
      " [ 7.90856596e-10]\n",
      " [-7.46528186e-15]\n",
      " [ 0.00000000e+00]\n",
      " [ 5.12065798e-12]\n",
      " [ 1.79867857e-11]\n",
      " [-2.61939714e-16]\n",
      " [ 1.37202460e-09]\n",
      " [ 0.00000000e+00]\n",
      " [ 1.74243834e-09]\n",
      " [ 0.00000000e+00]\n",
      " [-7.77087819e-15]\n",
      " [ 0.00000000e+00]\n",
      " [ 0.00000000e+00]\n",
      " [ 0.00000000e+00]\n",
      " [ 1.20552001e-13]\n",
      " [-1.52798167e-15]\n",
      " [ 6.73952008e-15]\n",
      " [ 7.47574233e-08]\n",
      " [ 0.00000000e+00]\n",
      " [-4.92446663e-14]\n",
      " [-4.36566190e-17]\n",
      " [ 8.53308882e-09]\n",
      " [-9.16789000e-16]\n",
      " [ 3.27773393e-13]\n",
      " [ 2.66733442e-13]\n",
      " [-2.86387421e-14]\n",
      " [ 1.06902834e-08]\n",
      " [-1.47267142e-07]\n",
      " [-5.21172718e-13]\n",
      " [ 0.00000000e+00]\n",
      " [ 7.48775891e-09]\n",
      " [ 1.93136974e-11]\n",
      " [ 3.06996262e-14]\n",
      " [ 3.69309481e-09]\n",
      " [-5.23879428e-16]\n",
      " [ 0.00000000e+00]\n",
      " [ 3.86955816e-02]\n",
      " [-2.11136507e-12]\n",
      " [ 0.00000000e+00]\n",
      " [-4.36566190e-17]\n",
      " [ 0.00000000e+00]\n",
      " [-5.54305692e-10]\n",
      " [ 5.35020930e-09]\n",
      " [-3.47501449e-11]\n",
      " [ 0.00000000e+00]\n",
      " [ 0.00000000e+00]\n",
      " [-4.36566190e-16]\n",
      " [ 0.00000000e+00]\n",
      " [ 0.00000000e+00]\n",
      " [ 0.00000000e+00]\n",
      " [ 0.00000000e+00]\n",
      " [-4.36566190e-17]\n",
      " [ 1.02200434e-12]\n",
      " [-2.18283095e-16]\n",
      " [-1.46983243e-09]\n",
      " [ 1.31353923e-09]\n",
      " [-6.88464882e-14]\n",
      " [-7.50500938e-13]\n",
      " [ 2.34093688e-05]\n",
      " [ 0.00000000e+00]\n",
      " [ 1.50083995e-10]\n",
      " [-4.36566190e-17]\n",
      " [-1.31801952e-11]\n",
      " [ 2.16058199e-14]\n",
      " [-3.05596333e-16]\n",
      " [ 3.23510667e-11]\n",
      " [-1.40574313e-14]\n",
      " [ 5.68323931e-04]\n",
      " [-6.34025078e-12]\n",
      " [ 9.59428590e-03]\n",
      " [ 2.85113611e-20]\n",
      " [-4.36566190e-17]\n",
      " [ 2.68000785e-07]\n",
      " [ 0.00000000e+00]\n",
      " [ 0.00000000e+00]\n",
      " [ 6.75654118e-04]\n",
      " [ 0.00000000e+00]\n",
      " [ 0.00000000e+00]\n",
      " [ 8.70538511e-13]\n",
      " [ 0.00000000e+00]\n",
      " [ 0.00000000e+00]\n",
      " [ 5.20548975e-06]\n",
      " [ 3.65795030e-08]\n",
      " [ 1.82835581e-06]\n",
      " [ 4.92385379e-12]\n",
      " [-1.44066843e-15]\n",
      " [-3.69985917e-11]\n",
      " [-5.67536048e-16]\n",
      " [ 3.68195013e-08]\n",
      " [ 0.00000000e+00]\n",
      " [-9.46144147e-11]\n",
      " [ 0.00000000e+00]\n",
      " [ 2.35750391e-08]\n",
      " [ 0.00000000e+00]\n",
      " [ 0.00000000e+00]\n",
      " [ 0.00000000e+00]\n",
      " [ 0.00000000e+00]\n",
      " [ 1.38490847e-10]\n",
      " [-9.16789000e-15]\n",
      " [ 2.03007940e-03]\n",
      " [-3.05596333e-16]\n",
      " [ 2.94542770e-14]\n",
      " [ 2.48428557e-13]\n",
      " [ 1.44891100e-13]\n",
      " [ 8.98239217e-13]\n",
      " [ 0.00000000e+00]\n",
      " [ 0.00000000e+00]\n",
      " [ 1.16052843e-11]\n",
      " [ 2.35184018e-17]\n",
      " [ 1.92886023e-13]\n",
      " [-3.45885849e-10]\n",
      " [-1.52798167e-15]\n",
      " [ 0.00000000e+00]\n",
      " [ 6.52670807e-06]\n",
      " [ 2.32947160e-15]\n",
      " [-1.93486136e-12]\n",
      " [ 6.65455756e-15]\n",
      " [ 6.85737598e-10]\n",
      " [ 0.00000000e+00]\n",
      " [ 1.01228216e-10]\n",
      " [ 4.75725186e-06]\n",
      " [-1.44066843e-15]\n",
      " [ 1.85699027e-09]\n",
      " [ 1.80326434e-07]\n",
      " [ 1.60236946e-11]\n",
      " [-1.12600025e-11]\n",
      " [ 0.00000000e+00]\n",
      " [ 0.00000000e+00]\n",
      " [-4.36566190e-17]\n",
      " [-4.36566190e-17]\n",
      " [-1.30969857e-16]\n",
      " [ 1.64094845e-12]\n",
      " [ 0.00000000e+00]\n",
      " [ 6.50337272e-11]\n",
      " [-9.73542605e-15]\n",
      " [-2.20388610e-10]\n",
      " [ 3.70963958e-14]\n",
      " [ 7.57005173e-15]\n",
      " [-7.43865132e-13]\n",
      " [ 7.41528379e-10]\n",
      " [ 5.66538053e-11]\n",
      " [ 0.00000000e+00]\n",
      " [-1.74626476e-16]\n",
      " [ 0.00000000e+00]\n",
      " [ 3.01028436e-08]\n",
      " [ 0.00000000e+00]\n",
      " [ 3.55768008e-10]\n",
      " [ 6.48710260e-09]\n",
      " [ 2.19770375e-15]\n",
      " [ 3.58524975e-08]\n",
      " [ 2.07733889e-14]\n",
      " [-3.49252952e-16]\n",
      " [ 0.00000000e+00]\n",
      " [ 1.95954898e-10]\n",
      " [ 0.00000000e+00]\n",
      " [-1.13070643e-14]\n",
      " [ 0.00000000e+00]\n",
      " [ 2.79474102e-14]\n",
      " [ 3.75673844e-10]\n",
      " [ 1.34187254e-11]\n",
      " [-4.36566190e-17]\n",
      " [ 9.19119285e-08]\n",
      " [ 4.31979443e-13]\n",
      " [-2.24541272e-11]\n",
      " [ 3.38019371e-08]\n",
      " [ 1.29523633e-10]\n",
      " [ 7.08178984e-08]\n",
      " [-2.66305376e-15]\n",
      " [ 0.00000000e+00]\n",
      " [-8.81863705e-15]\n",
      " [ 8.26432341e-16]\n",
      " [ 9.72487811e-10]\n",
      " [ 0.00000000e+00]\n",
      " [ 1.05879771e-05]\n",
      " [-2.61939714e-16]\n",
      " [ 1.13579472e-12]\n",
      " [ 0.00000000e+00]\n",
      " [ 0.00000000e+00]\n",
      " [-5.23879428e-16]\n",
      " [ 4.73396833e-10]\n",
      " [ 9.65785865e-11]\n",
      " [-5.76267371e-15]\n",
      " [-2.99047840e-14]\n",
      " [ 8.25346395e-13]\n",
      " [ 0.00000000e+00]\n",
      " [ 1.19884461e-13]\n",
      " [ 4.91569564e-08]\n",
      " [ 1.11667791e-08]\n",
      " [ 1.16394730e-06]\n",
      " [ 2.59236067e-10]\n",
      " [ 5.55033652e-11]\n",
      " [-6.28524344e-13]\n",
      " [-4.32200528e-15]\n",
      " [ 5.72907064e-13]\n",
      " [-6.60524646e-14]\n",
      " [-1.04775886e-15]\n",
      " [ 0.00000000e+00]\n",
      " [ 8.53998018e-11]\n",
      " [-2.76709011e-10]\n",
      " [ 0.00000000e+00]\n",
      " [ 0.00000000e+00]\n",
      " [ 1.29193348e-13]\n",
      " [ 1.26003662e-16]\n",
      " [ 2.20249401e-08]\n",
      " [-8.29475762e-16]\n",
      " [ 3.23286220e-11]\n",
      " [-4.36566190e-17]\n",
      " [ 1.97804963e-18]\n",
      " [ 0.00000000e+00]\n",
      " [ 1.79092864e-16]\n",
      " [-5.80874454e-11]\n",
      " [ 6.69752569e-06]\n",
      " [ 0.00000000e+00]\n",
      " [ 3.50967336e-05]\n",
      " [-8.73132381e-17]\n",
      " [ 5.00030325e-15]\n",
      " [ 1.23819131e-15]\n",
      " [ 1.37508102e-16]\n",
      " [ 2.26721177e-05]\n",
      " [ 1.00332683e-03]\n",
      " [ 4.79918607e-10]\n",
      " [-2.21775625e-14]\n",
      " [ 7.38151254e-17]\n",
      " [ 8.22444222e-10]\n",
      " [ 9.42191333e-09]\n",
      " [-2.22648757e-15]\n",
      " [ 4.04600481e-09]\n",
      " [-1.01283356e-14]\n",
      " [ 7.69045010e-11]\n",
      " [-8.73132381e-17]\n",
      " [ 1.80840848e-12]\n",
      " [ 1.65414351e-06]\n",
      " [ 3.73117636e-15]\n",
      " [ 4.10666741e-06]\n",
      " [ 3.90165427e-02]\n",
      " [ 1.26081353e-10]\n",
      " [ 0.00000000e+00]\n",
      " [ 0.00000000e+00]\n",
      " [ 6.01177695e-10]\n",
      " [ 0.00000000e+00]\n",
      " [ 0.00000000e+00]\n",
      " [ 1.50861535e-13]\n",
      " [ 3.30079276e-11]\n",
      " [ 3.16748921e-08]\n",
      " [-4.36566190e-17]\n",
      " [-1.30969857e-16]\n",
      " [ 1.78206485e-08]\n",
      " [ 1.21202310e-09]\n",
      " [ 2.24015465e-11]\n",
      " [ 1.27441562e-18]\n",
      " [ 0.00000000e+00]\n",
      " [ 0.00000000e+00]\n",
      " [ 0.00000000e+00]\n",
      " [-6.54849286e-15]\n",
      " [ 0.00000000e+00]\n",
      " [ 3.63968057e-16]\n",
      " [-8.71386116e-14]\n",
      " [-6.74451108e-13]\n",
      " [-6.81204395e-10]\n",
      " [ 5.00089884e-12]\n",
      " [ 1.44736122e-16]\n",
      " [ 5.18905190e-08]\n",
      " [ 8.83885816e-10]\n",
      " [-2.20465926e-14]\n",
      " [ 0.00000000e+00]\n",
      " [ 3.57784853e-06]\n",
      " [ 2.57777959e-09]\n",
      " [ 2.90852478e-13]\n",
      " [ 0.00000000e+00]\n",
      " [-9.96244046e-14]\n",
      " [ 4.40545391e-14]\n",
      " [ 0.00000000e+00]\n",
      " [ 9.84356117e-13]\n",
      " [ 0.00000000e+00]\n",
      " [ 0.00000000e+00]\n",
      " [ 1.61768179e-07]\n",
      " [-5.99422842e-12]\n",
      " [ 1.78199093e-13]\n",
      " [ 8.11542205e-11]\n",
      " [ 0.00000000e+00]\n",
      " [ 1.50488300e-08]\n",
      " [ 4.58438685e-15]\n",
      " [ 1.41508844e-13]\n",
      " [ 1.71292411e-09]\n",
      " [ 4.89271819e-10]\n",
      " [ 4.19902815e-15]\n",
      " [ 1.10108989e-13]\n",
      " [-3.88543909e-15]\n",
      " [ 2.68267954e-15]\n",
      " [-1.74626476e-16]\n",
      " [ 2.24153811e-10]\n",
      " [ 2.07302044e-15]\n",
      " [ 0.00000000e+00]\n",
      " [ 4.65135559e-10]\n",
      " [-4.36566190e-17]\n",
      " [-2.40329688e-13]\n",
      " [ 7.08341123e-15]\n",
      " [-1.52798167e-15]\n",
      " [ 5.00746077e-10]\n",
      " [-1.74626476e-16]\n",
      " [ 2.39596872e-13]\n",
      " [ 0.00000000e+00]\n",
      " [ 1.12371446e-13]\n",
      " [ 1.27133485e-07]\n",
      " [ 0.00000000e+00]\n",
      " [-8.25110100e-15]\n",
      " [ 1.02011807e-10]\n",
      " [ 5.92079970e-12]\n",
      " [-2.00686466e-10]\n",
      " [ 0.00000000e+00]\n",
      " [-7.42162524e-16]\n",
      " [ 1.06801943e-17]\n",
      " [ 1.03939141e-16]\n",
      " [ 8.62518786e-07]\n",
      " [-5.13358183e-13]\n",
      " [ 7.14102626e-11]\n",
      " [ 1.50757091e-10]\n",
      " [ 1.90970776e-10]\n",
      " [ 3.09179820e-05]\n",
      " [-8.73132381e-17]\n",
      " [ 1.17884888e-08]\n",
      " [ 0.00000000e+00]\n",
      " [-4.87382495e-12]\n",
      " [ 5.10305295e-07]\n",
      " [-1.81384259e-10]\n",
      " [-6.62270911e-13]\n",
      " [ 1.17445580e-14]\n",
      " [ 9.50514687e-12]\n",
      " [ 1.15887281e-06]\n",
      " [ 1.47422726e-07]\n",
      " [ 0.00000000e+00]\n",
      " [ 1.51392820e-06]\n",
      " [ 7.34259516e-05]\n",
      " [-2.18283095e-16]\n",
      " [ 3.33228614e-08]\n",
      " [ 9.50193886e-11]\n",
      " [ 5.89724061e-16]\n",
      " [ 1.32427615e-10]]\n",
      "Epoch=1, loss=0.1615897\n"
     ]
    }
   ],
   "source": [
    "num_epochs=1\n",
    "learning_rate= 0.01\n",
    "W = train(W,trainX, trainY, learning_rate, num_epochs)"
   ]
  },
  {
   "cell_type": "markdown",
   "metadata": {
    "colab_type": "text",
    "id": "qq7eZ3lO775W"
   },
   "source": [
    "#### Evaluate result"
   ]
  },
  {
   "cell_type": "code",
   "execution_count": 18,
   "metadata": {
    "colab": {},
    "colab_type": "code",
    "id": "Ku2P19qg775Y"
   },
   "outputs": [
    {
     "name": "stdout",
     "output_type": "stream",
     "text": [
      "              precision    recall  f1-score   support\n",
      "\n",
      "           0       1.00      0.99      1.00       250\n",
      "           1       0.99      1.00      1.00       250\n",
      "\n",
      "    accuracy                           1.00       500\n",
      "   macro avg       1.00      1.00      1.00       500\n",
      "weighted avg       1.00      1.00      1.00       500\n",
      "\n"
     ]
    }
   ],
   "source": [
    "preds = predict(W, testX)\n",
    "print(classification_report(testY, preds))"
   ]
  },
  {
   "cell_type": "markdown",
   "metadata": {
    "colab_type": "text",
    "id": "Ip44KDZy775f"
   },
   "source": [
    "**TODO: Study about accuracy, recall, precision, f1-score.**\n",
    "- Understand these four parameters, which are used to calculate Accuracy, Precision, Recall and F1 score.\n",
    "  + `True Positives (TP)` - These are the correctly predicted positive values which means that the value of actual class is yes and the value of predicted class is also yes.\n",
    "  + `True Negatives (TN)` - These are the correctly predicted negative values which means that the value of actual class is no and value of predicted class is also no.\n",
    "  + `False Positives (FP)` – When actual class is no and predicted class is yes.\n",
    "  + `False Negatives (FN)` – When actual class is yes but predicted class in no.\n",
    "---\n",
    "- Accuracy:is the most intuitive performance measure and it is simply a ratio of correctly predicted observation to the total observations. \n",
    "  + $accuracy = \\frac{TN + TP}{TN + TP + FN + FP}$\n",
    "  \n",
    "  ---\n",
    "- Recall: is the ratio of correctly predicted positive observations to the all observations in actual class - yes\n",
    "  + $recall = \\frac{TP}{TP + FN}$\n",
    "  + Recall should be given a higher weight when considering choosing the best model when misrepresenting real Positive labels to False Negative has unpredictable consequences. For example, the cancer problem, mistaking a Cancer person for a normal person cause the big problem.\n",
    "  ---\n",
    "- Precision: is the ratio of correctly predicted positive observations to the total predicted positive observations. \n",
    "  + $precision = \\frac{TP}{TP + FP}$\n",
    "  + Precision need to be given more importance when choosing models with specific problems when mistakenly receiving ```False Positive ``` brings bad results. For example, with the problem of blocking Spam Mail, then receiving the wrong FP (mistaking a regular mail for spam) will affect the user's work because of missing an important email.\n",
    "  ---\n",
    "- F1:  is the weighted average of Precision and Recall. Therefore, this score takes both false positives and false negatives into account. Intuitively it is not as easy to understand as accuracy, but F1 is usually more useful than accuracy, especially  Accuracy works best if false positives and false negatives have similar cost. If the cost of false positives and false negatives are very different, it’s better to look at both Precision and Recall.\n",
    "  +  $ F1-score = 2*\\frac{precision * recall}{precision+ recall}$\n",
    "\n"
   ]
  },
  {
   "cell_type": "code",
   "execution_count": 19,
   "metadata": {
    "colab": {},
    "colab_type": "code",
    "id": "9hfMT33Z775f"
   },
   "outputs": [
    {
     "data": {
      "text/plain": [
       "<matplotlib.collections.PathCollection at 0x2a2019e5430>"
      ]
     },
     "execution_count": 19,
     "metadata": {},
     "output_type": "execute_result"
    },
    {
     "data": {
      "image/png": "[encoded data removed]",
      "text/plain": [
       "<Figure size 842.4x595.44 with 1 Axes>"
      ]
     },
     "metadata": {
      "needs_background": "light"
     },
     "output_type": "display_data"
    }
   ],
   "source": [
    "plt.figure(figsize=(11.7,8.27))\n",
    "plt.title(\"Data\")\n",
    "plt.scatter(testX[:, 0], testX[:, 1], marker=\"o\", c=testY[:, 0], s=30)"
   ]
  },
  {
   "cell_type": "code",
   "execution_count": 20,
   "metadata": {
    "colab": {},
    "colab_type": "code",
    "id": "AisuLUJn775j"
   },
   "outputs": [
    {
     "data": {
      "image/png": "[encoded data removed]",
      "text/plain": [
       "<Figure size 835.2x594 with 1 Axes>"
      ]
     },
     "metadata": {
      "needs_background": "light"
     },
     "output_type": "display_data"
    }
   ],
   "source": [
    "plt.figure(figsize=(11.6,8.25))\n",
    "plt.plot(range(0, num_epochs), losses)\n",
    "plt.title(\"Training Loss\")\n",
    "plt.xlabel(\"Epoch #\")\n",
    "plt.ylabel(\"Loss\")\n",
    "plt.show()"
   ]
  },
  {
   "cell_type": "markdown",
   "metadata": {
    "colab_type": "text",
    "id": "xmU7hvqu775m"
   },
   "source": [
    "**TODO: Try out different learning rates. Give me your observation**"
   ]
  },
  {
   "cell_type": "markdown",
   "metadata": {},
   "source": [
    "- Try out diffrent learning rates: I choose a starting point ```W = [-1.16320572, 0.48021803, 0.3285968]```\n",
    "- The below picture show 6 learning rate (0.5, 0.3, 0.1, 0.08, 0.05, 0.01)"
   ]
  },
  {
   "cell_type": "markdown",
   "metadata": {},
   "source": [
    "![learning_rate](learning_rate.png) <center>"
   ]
  },
  {
   "cell_type": "markdown",
   "metadata": {},
   "source": [
    "- With small learning rate ```n = 0.01 and n = 0.05```, convergence speed is very slow, in the above example, we choose ```num_epochs = 100``` so the algorithms stops before reaching the destination with ```loss=0.1680..```, which is much higher than ```learning rate = 0.1 or 0.08```.Because of a small learing rate, the line shown on the graph is almost horizontal\n",
    "---\n",
    "- With large learning rate ```n = 0.5 and n = 0.3``` , ```W``` go fast to the near destination after few Epochs, but the algorithm don't converge beacause the position change of ```W``` is too big after each Epoch, making ```W``` oscillate around the destination but not reach\n",
    "---"
   ]
  },
  {
   "cell_type": "code",
   "execution_count": null,
   "metadata": {},
   "outputs": [],
   "source": []
  }
 ],
 "metadata": {
  "colab": {
   "name": "Lab02-GradientDescent.ipynb",
   "provenance": []
  },
  "kernelspec": {
   "display_name": "Python 3",
   "language": "python",
   "name": "python3"
  },
  "language_info": {
   "codemirror_mode": {
    "name": "ipython",
    "version": 3
   },
   "file_extension": ".py",
   "mimetype": "text/x-python",
   "name": "python",
   "nbconvert_exporter": "python",
   "pygments_lexer": "ipython3",
   "version": "3.8.8"
  }
 },
 "nbformat": 4,
 "nbformat_minor": 1
}
